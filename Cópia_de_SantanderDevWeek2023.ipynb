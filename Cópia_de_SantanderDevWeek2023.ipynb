{
  "nbformat": 4,
  "nbformat_minor": 0,
  "metadata": {
    "colab": {
      "provenance": [],
      "toc_visible": true,
      "include_colab_link": true
    },
    "kernelspec": {
      "name": "python3",
      "display_name": "Python 3"
    },
    "language_info": {
      "name": "python"
    }
  },
  "cells": [
    {
      "cell_type": "markdown",
      "metadata": {
        "id": "view-in-github",
        "colab_type": "text"
      },
      "source": [
        "<a href=\"https://colab.research.google.com/github/FelipeChavao/etl-desafio-python-/blob/main/C%C3%B3pia_de_SantanderDevWeek2023.ipynb\" target=\"_parent\"><img src=\"https://colab.research.google.com/assets/colab-badge.svg\" alt=\"Open In Colab\"/></a>"
      ]
    },
    {
      "cell_type": "markdown",
      "source": [
        "# Santander Dev Week 2023 (ETL com Python)"
      ],
      "metadata": {
        "id": "BPJQsTCULaC-"
      }
    },
    {
      "cell_type": "code",
      "source": [
        "import pandas as pd\n",
        "from datetime import datetime, timedelta"
      ],
      "metadata": {
        "id": "-NZhQa8MjVfZ"
      },
      "execution_count": 15,
      "outputs": []
    },
    {
      "cell_type": "code",
      "source": [
        "# Criar DataFrames para filmes, clientes e aluguéis\n",
        "filmes = pd.DataFrame({'Filme_ID': [1, 2, 3, 4],\n",
        "                       'Título': ['Mortal Kombat', 'O Farol', 'Gente Grande', 'Alien'],\n",
        "                       'Genero':['AÇAO', 'Drama', 'Comedia', 'Ficção Cientifica'],\n",
        "                       'Disponível': [True, True, True, True]})\n"
      ],
      "metadata": {
        "id": "U9ulkVOcjXJp"
      },
      "execution_count": 16,
      "outputs": []
    },
    {
      "cell_type": "code",
      "source": [
        "clientes = pd.DataFrame({'Cliente_ID': [101, 102, 103],\n",
        "                         'Nome': ['Alec', 'Jarles', 'João Vitor']})"
      ],
      "metadata": {
        "id": "nvaoKDErkdso"
      },
      "execution_count": 17,
      "outputs": []
    },
    {
      "cell_type": "code",
      "source": [
        "alugueis = pd.DataFrame(columns=['Aluguel_ID', 'Cliente_ID', 'Filme_ID', 'Data_Aluguel', 'Data_Devolucao'])"
      ],
      "metadata": {
        "id": "zqT3cMFnki0I"
      },
      "execution_count": 18,
      "outputs": []
    },
    {
      "cell_type": "code",
      "source": [
        "def alugar_filme(cliente_id, filme_id, data_coleta, dias_aluguel):\n",
        "    if filmes.loc[filmes['Filme_ID'] == filme_id, 'Disponível'].bool():\n",
        "        aluguel_id = len(alugueis) + 1\n",
        "        data_aluguel = datetime.now()\n",
        "        data_devolucao = data_coleta + timedelta(days=dias_aluguel)\n",
        "        alugueis.loc[len(alugueis)] = [aluguel_id, cliente_id, filme_id, data_aluguel, data_devolucao]\n",
        "        filmes.loc[filmes['Filme_ID'] == filme_id, 'Disponível'] = False\n",
        "        print(f'Filme {filme_id} alugado por {dias_aluguel} dias para Cliente {cliente_id}')\n",
        "    else:\n",
        "        print(f'Filme {filme_id} não está disponível para aluguel.')"
      ],
      "metadata": {
        "id": "jQUkdrjekmXQ"
      },
      "execution_count": 19,
      "outputs": []
    },
    {
      "cell_type": "code",
      "source": [
        "def devolver_filme(aluguel_id):\n",
        "    if alugueis['Aluguel_ID'].isin([aluguel_id]).any():\n",
        "        index = alugueis[alugueis['Aluguel_ID'] == aluguel_id].index[0]\n",
        "        filmes.loc[filmes['Filme_ID'] == alugueis.loc[index, 'Filme_ID'], 'Disponível'] = True\n",
        "        alugueis.loc[index, 'Data_Devolucao'] = datetime.now()\n",
        "        print(f'Filme {alugueis.loc[index, \"Filme_ID\"]} devolvido por Cliente {alugueis.loc[index, \"Cliente_ID\"]}')\n",
        "    else:\n",
        "        print(f'Aluguel ID {aluguel_id} não encontrado.')"
      ],
      "metadata": {
        "id": "0jVgDhCOkxY4"
      },
      "execution_count": 20,
      "outputs": []
    },
    {
      "cell_type": "code",
      "source": [
        "def verificar_disponibilidade(filme_id):\n",
        "    disponibilidade = filmes.loc[filmes['Filme_ID'] == filme_id, 'Disponível'].bool()\n",
        "    if disponibilidade:\n",
        "        print(f'Filme {filme_id} está disponível para aluguel.')\n",
        "    else:\n",
        "        print(f'Filme {filme_id} não está disponível para aluguel.')"
      ],
      "metadata": {
        "id": "dg1RE78QlAQf"
      },
      "execution_count": 21,
      "outputs": []
    },
    {
      "cell_type": "code",
      "source": [
        "data_coleta = datetime.now() - timedelta(days=3)\n",
        "alugar_filme(101, 1, data_coleta, 7)"
      ],
      "metadata": {
        "colab": {
          "base_uri": "https://localhost:8080/"
        },
        "id": "5IpjDfuvlRxZ",
        "outputId": "4e1b71cf-81ee-455f-a825-771e5b8b1611"
      },
      "execution_count": 22,
      "outputs": [
        {
          "output_type": "stream",
          "name": "stdout",
          "text": [
            "Filme 1 alugado por 7 dias para Cliente 101\n"
          ]
        }
      ]
    },
    {
      "cell_type": "code",
      "source": [
        "verificar_disponibilidade(1)"
      ],
      "metadata": {
        "colab": {
          "base_uri": "https://localhost:8080/"
        },
        "id": "c6jmaoV1lVy5",
        "outputId": "b2805a73-41f4-4b08-b837-45fea94e62f5"
      },
      "execution_count": 23,
      "outputs": [
        {
          "output_type": "stream",
          "name": "stdout",
          "text": [
            "Filme 1 não está disponível para aluguel.\n"
          ]
        }
      ]
    },
    {
      "cell_type": "code",
      "source": [
        "devolver_filme(1)"
      ],
      "metadata": {
        "colab": {
          "base_uri": "https://localhost:8080/"
        },
        "id": "6n9FUPA8lb4H",
        "outputId": "df73e06b-e8b1-4947-a20e-820b11cc7a7b"
      },
      "execution_count": 24,
      "outputs": [
        {
          "output_type": "stream",
          "name": "stdout",
          "text": [
            "Filme 1 devolvido por Cliente 101\n"
          ]
        }
      ]
    },
    {
      "cell_type": "code",
      "source": [
        "verificar_disponibilidade(1)"
      ],
      "metadata": {
        "colab": {
          "base_uri": "https://localhost:8080/"
        },
        "id": "Wc_0i0pIlfgw",
        "outputId": "1b83fc25-6d58-4e9c-f637-e6d4af6fa94b"
      },
      "execution_count": 25,
      "outputs": [
        {
          "output_type": "stream",
          "name": "stdout",
          "text": [
            "Filme 1 está disponível para aluguel.\n"
          ]
        }
      ]
    },
    {
      "cell_type": "code",
      "source": [
        "print(filmes)\n",
        "print(clientes)\n",
        "print(alugueis)"
      ],
      "metadata": {
        "colab": {
          "base_uri": "https://localhost:8080/"
        },
        "id": "hjS1wvAglj7P",
        "outputId": "c6bdea5c-32f1-4b00-8e4c-3563857a99e4"
      },
      "execution_count": 26,
      "outputs": [
        {
          "output_type": "stream",
          "name": "stdout",
          "text": [
            "   Filme_ID         Título             Genero  Disponível\n",
            "0         1  Mortal Kombat               AÇAO        True\n",
            "1         2        O Farol              Drama        True\n",
            "2         3   Gente Grande            Comedia        True\n",
            "3         4          Alien  Ficção Cientifica        True\n",
            "   Cliente_ID        Nome\n",
            "0         101        Alec\n",
            "1         102      Jarles\n",
            "2         103  João Vitor\n",
            "   Aluguel_ID  Cliente_ID  Filme_ID               Data_Aluguel  \\\n",
            "0           1         101         1 2023-09-16 19:57:35.248875   \n",
            "\n",
            "              Data_Devolucao  \n",
            "0 2023-09-16 19:58:11.344603  \n"
          ]
        }
      ]
    }
  ]
}